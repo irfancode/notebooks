{
 "cells": [
  {
   "cell_type": "code",
   "execution_count": 2,
   "id": "22e5177e",
   "metadata": {},
   "outputs": [
    {
     "name": "stdout",
     "output_type": "stream",
     "text": [
      "Wed Jul 13 11:52:17 UTC 2022\r\n"
     ]
    }
   ],
   "source": [
    "!date"
   ]
  },
  {
   "cell_type": "code",
   "execution_count": 3,
   "id": "171edbbe",
   "metadata": {},
   "outputs": [
    {
     "name": "stdout",
     "output_type": "stream",
     "text": [
      "Linux c2b08e4af3d1 5.15.0-40-generic #43-Ubuntu SMP Wed Jun 15 12:54:21 UTC 2022 x86_64 GNU/Linux\r\n"
     ]
    }
   ],
   "source": [
    "!uname -a"
   ]
  },
  {
   "cell_type": "code",
   "execution_count": 5,
   "id": "041b9b35",
   "metadata": {},
   "outputs": [
    {
     "name": "stdout",
     "output_type": "stream",
     "text": [
      "USER         PID %CPU %MEM    VSZ   RSS TTY      STAT START   TIME COMMAND\r\n",
      "root           1  1.5  1.6 518768 128260 pts/0   Ssl+ 11:51   0:01 /opt/conda/bi\r\n",
      "root         998  1.0  0.8 676212 65100 ?        Ssl  11:51   0:00 /opt/conda/bi\r\n",
      "root        1022  0.0  0.0   2420   524 pts/1    Ss+  11:52   0:00 /bin/sh -c ps\r\n",
      "root        1023  0.0  0.0   8592  3048 pts/1    R+   11:52   0:00 ps -aux\r\n"
     ]
    }
   ],
   "source": [
    "!ps -aux"
   ]
  },
  {
   "cell_type": "code",
   "execution_count": 6,
   "id": "c73e555f",
   "metadata": {},
   "outputs": [
    {
     "name": "stdout",
     "output_type": "stream",
     "text": [
      "/opt/notebooks\r\n"
     ]
    }
   ],
   "source": [
    "!pwd"
   ]
  },
  {
   "cell_type": "code",
   "execution_count": 8,
   "id": "90c9083c",
   "metadata": {},
   "outputs": [
    {
     "name": "stdout",
     "output_type": "stream",
     "text": [
      "system_info.ipynb\r\n"
     ]
    }
   ],
   "source": [
    "!ls"
   ]
  },
  {
   "cell_type": "code",
   "execution_count": 9,
   "id": "9da19a51",
   "metadata": {},
   "outputs": [],
   "source": [
    "import platform"
   ]
  },
  {
   "cell_type": "code",
   "execution_count": 10,
   "id": "f8944fb7",
   "metadata": {},
   "outputs": [
    {
     "data": {
      "text/plain": [
       "'#43-Ubuntu SMP Wed Jun 15 12:54:21 UTC 2022'"
      ]
     },
     "execution_count": 10,
     "metadata": {},
     "output_type": "execute_result"
    }
   ],
   "source": [
    "platform.version()"
   ]
  },
  {
   "cell_type": "code",
   "execution_count": 11,
   "id": "d864c016",
   "metadata": {},
   "outputs": [
    {
     "data": {
      "text/plain": [
       "'Linux-5.15.0-40-generic-x86_64-with-glibc2.31'"
      ]
     },
     "execution_count": 11,
     "metadata": {},
     "output_type": "execute_result"
    }
   ],
   "source": [
    "platform.platform()"
   ]
  },
  {
   "cell_type": "code",
   "execution_count": 12,
   "id": "3f741835",
   "metadata": {},
   "outputs": [
    {
     "data": {
      "text/plain": [
       "uname_result(system='Linux', node='c2b08e4af3d1', release='5.15.0-40-generic', version='#43-Ubuntu SMP Wed Jun 15 12:54:21 UTC 2022', machine='x86_64')"
      ]
     },
     "execution_count": 12,
     "metadata": {},
     "output_type": "execute_result"
    }
   ],
   "source": [
    "platform.uname()"
   ]
  },
  {
   "cell_type": "code",
   "execution_count": 13,
   "id": "022416ed",
   "metadata": {},
   "outputs": [
    {
     "data": {
      "text/plain": [
       "'Linux'"
      ]
     },
     "execution_count": 13,
     "metadata": {},
     "output_type": "execute_result"
    }
   ],
   "source": [
    "platform.system()"
   ]
  },
  {
   "cell_type": "code",
   "execution_count": 19,
   "id": "4a17cb0a",
   "metadata": {},
   "outputs": [
    {
     "data": {
      "text/plain": [
       "'3.9.12'"
      ]
     },
     "execution_count": 19,
     "metadata": {},
     "output_type": "execute_result"
    }
   ],
   "source": [
    "platform.python_version()"
   ]
  },
  {
   "cell_type": "code",
   "execution_count": 21,
   "id": "2a7847df",
   "metadata": {},
   "outputs": [
    {
     "data": {
      "text/plain": [
       "''"
      ]
     },
     "execution_count": 21,
     "metadata": {},
     "output_type": "execute_result"
    }
   ],
   "source": [
    "platform.processor()"
   ]
  },
  {
   "cell_type": "code",
   "execution_count": 23,
   "id": "c9840668",
   "metadata": {},
   "outputs": [
    {
     "name": "stdout",
     "output_type": "stream",
     "text": [
      "==================== System Information ====================\n",
      "System: Linux\n",
      "Node Name: c2b08e4af3d1\n",
      "Release: 5.15.0-40-generic\n",
      "Version: #43-Ubuntu SMP Wed Jun 15 12:54:21 UTC 2022\n",
      "Machine: x86_64\n",
      "Processor: \n"
     ]
    }
   ],
   "source": [
    "print(\"=\"*20, \"System Information\", \"=\"*20)\n",
    "uname = platform.uname()\n",
    "print(f\"System: {uname.system}\")\n",
    "print(f\"Node Name: {uname.node}\")\n",
    "print(f\"Release: {uname.release}\")\n",
    "print(f\"Version: {uname.version}\")\n",
    "print(f\"Machine: {uname.machine}\")\n",
    "print(f\"Processor: {uname.processor}\")"
   ]
  },
  {
   "cell_type": "code",
   "execution_count": 26,
   "id": "e78f5713",
   "metadata": {},
   "outputs": [],
   "source": [
    "import psutil\n",
    "import platform\n",
    "from datetime import datetime\n",
    "import socket\n",
    "import uuid\n",
    "import re"
   ]
  },
  {
   "cell_type": "code",
   "execution_count": 29,
   "id": "c77a88d1",
   "metadata": {},
   "outputs": [
    {
     "name": "stdout",
     "output_type": "stream",
     "text": [
      "==================== Boot Time ====================\n",
      "Boot Time: 2022/7/13 11:41:46\n"
     ]
    }
   ],
   "source": [
    " # Boot Time\n",
    "print(\"=\"*20, \"Boot Time\", \"=\"*20)\n",
    "boot_time_timestamp = psutil.boot_time()\n",
    "bt = datetime.fromtimestamp(boot_time_timestamp)\n",
    "print(f\"Boot Time: {bt.year}/{bt.month}/{bt.day} {bt.hour}:{bt.minute}:{bt.second}\")\n"
   ]
  },
  {
   "cell_type": "code",
   "execution_count": 30,
   "id": "4d8736e9",
   "metadata": {},
   "outputs": [
    {
     "name": "stdout",
     "output_type": "stream",
     "text": [
      "======================================== CPU Info ========================================\n",
      "Physical cores: 2\n",
      "Total cores: 4\n",
      "Max Frequency: 4100.00Mhz\n",
      "Min Frequency: 400.00Mhz\n",
      "Current Frequency: 2773.76Mhz\n",
      "CPU Usage Per Core:\n",
      "Core 0: 4.0%\n",
      "Core 1: 5.1%\n",
      "Core 2: 5.9%\n",
      "Core 3: 5.0%\n",
      "Total CPU Usage: 5.0%\n"
     ]
    }
   ],
   "source": [
    "# print CPU information\n",
    "print(\"=\"*40, \"CPU Info\", \"=\"*40)\n",
    "# number of cores\n",
    "print(\"Physical cores:\", psutil.cpu_count(logical=False))\n",
    "print(\"Total cores:\", psutil.cpu_count(logical=True))\n",
    "# CPU frequencies\n",
    "cpufreq = psutil.cpu_freq()\n",
    "print(f\"Max Frequency: {cpufreq.max:.2f}Mhz\")\n",
    "print(f\"Min Frequency: {cpufreq.min:.2f}Mhz\")\n",
    "print(f\"Current Frequency: {cpufreq.current:.2f}Mhz\")\n",
    "# CPU usage\n",
    "print(\"CPU Usage Per Core:\")\n",
    "for i, percentage in enumerate(psutil.cpu_percent(percpu=True, interval=1)):\n",
    "    print(f\"Core {i}: {percentage}%\")\n",
    "print(f\"Total CPU Usage: {psutil.cpu_percent()}%\")"
   ]
  },
  {
   "cell_type": "code",
   "execution_count": null,
   "id": "b17b07ef",
   "metadata": {},
   "outputs": [],
   "source": []
  },
  {
   "cell_type": "code",
   "execution_count": 35,
   "id": "68fce3b3",
   "metadata": {},
   "outputs": [],
   "source": [
    "def get_size(bytes, suffix=\"B\"):\n",
    "    \"\"\"\n",
    "    Scale bytes to its proper format\n",
    "    e.g:\n",
    "        1253656 => '1.20MB'\n",
    "        1253656678 => '1.17GB'\n",
    "    \"\"\"\n",
    "    factor = 1024\n",
    "    for unit in [\"\", \"K\", \"M\", \"G\", \"T\", \"P\"]:\n",
    "        if bytes < factor:\n",
    "            return f\"{bytes:.2f}{unit}{suffix}\"\n",
    "        bytes /= factor"
   ]
  },
  {
   "cell_type": "code",
   "execution_count": 36,
   "id": "95a4428c",
   "metadata": {},
   "outputs": [
    {
     "name": "stdout",
     "output_type": "stream",
     "text": [
      "======================================== Memory Information ========================================\n",
      "Total: 7.50GB\n",
      "Available: 5.04GB\n",
      "Used: 1.68GB\n",
      "Percentage: 32.8%\n"
     ]
    }
   ],
   "source": [
    "# Memory Information\n",
    "print(\"=\"*40, \"Memory Information\", \"=\"*40)\n",
    "# get the memory details\n",
    "svmem = psutil.virtual_memory()\n",
    "print(f\"Total: {get_size(svmem.total)}\")\n",
    "print(f\"Available: {get_size(svmem.available)}\")\n",
    "print(f\"Used: {get_size(svmem.used)}\")\n",
    "print(f\"Percentage: {svmem.percent}%\")"
   ]
  },
  {
   "cell_type": "code",
   "execution_count": 37,
   "id": "28e2f774",
   "metadata": {},
   "outputs": [
    {
     "name": "stdout",
     "output_type": "stream",
     "text": [
      "==================== SWAP ====================\n",
      "Total: 2.00GB\n",
      "Free: 2.00GB\n",
      "Used: 3.25MB\n",
      "Percentage: 0.2%\n"
     ]
    }
   ],
   "source": [
    "print(\"=\"*20, \"SWAP\", \"=\"*20)\n",
    "# get the swap memory details (if exists)\n",
    "swap = psutil.swap_memory()\n",
    "print(f\"Total: {get_size(swap.total)}\")\n",
    "print(f\"Free: {get_size(swap.free)}\")\n",
    "print(f\"Used: {get_size(swap.used)}\")\n",
    "print(f\"Percentage: {swap.percent}%\")\n"
   ]
  },
  {
   "cell_type": "code",
   "execution_count": 38,
   "id": "ff2be25b",
   "metadata": {},
   "outputs": [
    {
     "name": "stdout",
     "output_type": "stream",
     "text": [
      "======================================== Disk Information ========================================\n",
      "Partitions and Usage:\n",
      "=== Device: /dev/nvme0n1p5 ===\n",
      "  Mountpoint: /etc/resolv.conf\n",
      "  File system type: ext4\n",
      "  Total Size: 93.26GB\n",
      "  Used: 16.17GB\n",
      "  Free: 72.31GB\n",
      "  Percentage: 18.3%\n",
      "=== Device: /dev/nvme0n1p5 ===\n",
      "  Mountpoint: /etc/hostname\n",
      "  File system type: ext4\n",
      "  Total Size: 93.26GB\n",
      "  Used: 16.17GB\n",
      "  Free: 72.31GB\n",
      "  Percentage: 18.3%\n",
      "=== Device: /dev/nvme0n1p5 ===\n",
      "  Mountpoint: /etc/hosts\n",
      "  File system type: ext4\n",
      "  Total Size: 93.26GB\n",
      "  Used: 16.17GB\n",
      "  Free: 72.31GB\n",
      "  Percentage: 18.3%\n"
     ]
    }
   ],
   "source": [
    "# Disk Information\n",
    "print(\"=\"*40, \"Disk Information\", \"=\"*40)\n",
    "print(\"Partitions and Usage:\")\n",
    "# get all disk partitions\n",
    "partitions = psutil.disk_partitions()\n",
    "for partition in partitions:\n",
    "    print(f\"=== Device: {partition.device} ===\")\n",
    "    print(f\"  Mountpoint: {partition.mountpoint}\")\n",
    "    print(f\"  File system type: {partition.fstype}\")\n",
    "    try:\n",
    "        partition_usage = psutil.disk_usage(partition.mountpoint)\n",
    "    except PermissionError:\n",
    "        # this can be catched due to the disk that\n",
    "        # isn't ready\n",
    "        continue\n",
    "    print(f\"  Total Size: {get_size(partition_usage.total)}\")\n",
    "    print(f\"  Used: {get_size(partition_usage.used)}\")\n",
    "    print(f\"  Free: {get_size(partition_usage.free)}\")\n",
    "    print(f\"  Percentage: {partition_usage.percent}%\")"
   ]
  },
  {
   "cell_type": "code",
   "execution_count": 39,
   "id": "bfd64ee8",
   "metadata": {},
   "outputs": [
    {
     "name": "stdout",
     "output_type": "stream",
     "text": [
      "Total read: 2.05GB\n",
      "Total write: 6.01GB\n"
     ]
    }
   ],
   "source": [
    "# get IO statistics since boot\n",
    "disk_io = psutil.disk_io_counters()\n",
    "print(f\"Total read: {get_size(disk_io.read_bytes)}\")\n",
    "print(f\"Total write: {get_size(disk_io.write_bytes)}\")\n"
   ]
  },
  {
   "cell_type": "code",
   "execution_count": 40,
   "id": "a45937ab",
   "metadata": {},
   "outputs": [
    {
     "name": "stdout",
     "output_type": "stream",
     "text": [
      "======================================== Network Information ========================================\n",
      "=== Interface: lo ===\n",
      "  IP Address: 127.0.0.1\n",
      "  Netmask: 255.0.0.0\n",
      "  Broadcast IP: None\n",
      "=== Interface: lo ===\n",
      "  MAC Address: 00:00:00:00:00:00\n",
      "  Netmask: None\n",
      "  Broadcast MAC: None\n",
      "=== Interface: eth0 ===\n",
      "  IP Address: 172.17.0.2\n",
      "  Netmask: 255.255.0.0\n",
      "  Broadcast IP: 172.17.255.255\n",
      "=== Interface: eth0 ===\n",
      "  MAC Address: 02:42:ac:11:00:02\n",
      "  Netmask: None\n",
      "  Broadcast MAC: ff:ff:ff:ff:ff:ff\n"
     ]
    }
   ],
   "source": [
    "## Network information\n",
    "print(\"=\"*40, \"Network Information\", \"=\"*40)\n",
    "## get all network interfaces (virtual and physical)\n",
    "if_addrs = psutil.net_if_addrs()\n",
    "for interface_name, interface_addresses in if_addrs.items():\n",
    "    for address in interface_addresses:\n",
    "        print(f\"=== Interface: {interface_name} ===\")\n",
    "        if str(address.family) == 'AddressFamily.AF_INET':\n",
    "            print(f\"  IP Address: {address.address}\")\n",
    "            print(f\"  Netmask: {address.netmask}\")\n",
    "            print(f\"  Broadcast IP: {address.broadcast}\")\n",
    "        elif str(address.family) == 'AddressFamily.AF_PACKET':\n",
    "            print(f\"  MAC Address: {address.address}\")\n",
    "            print(f\"  Netmask: {address.netmask}\")\n",
    "            print(f\"  Broadcast MAC: {address.broadcast}\")"
   ]
  },
  {
   "cell_type": "code",
   "execution_count": 41,
   "id": "fea89f95",
   "metadata": {},
   "outputs": [
    {
     "name": "stdout",
     "output_type": "stream",
     "text": [
      "Total Bytes Sent: 6.73MB\n",
      "Total Bytes Received: 3.82MB\n"
     ]
    }
   ],
   "source": [
    "##get IO statistics since boot\n",
    "net_io = psutil.net_io_counters()\n",
    "print(f\"Total Bytes Sent: {get_size(net_io.bytes_sent)}\")\n",
    "print(f\"Total Bytes Received: {get_size(net_io.bytes_recv)}\")"
   ]
  },
  {
   "cell_type": "code",
   "execution_count": 42,
   "id": "0a0256c3",
   "metadata": {},
   "outputs": [
    {
     "name": "stdout",
     "output_type": "stream",
     "text": [
      "HOSTNAME : c2b08e4af3d1\n",
      "PWD : /\n",
      "HOME : /root\n",
      "LANG : C.UTF-8\n",
      "TERM : xterm-color\n",
      "SHLVL : 0\n",
      "LC_ALL : C.UTF-8\n",
      "PATH : /opt/conda/bin:/usr/local/sbin:/usr/local/bin:/usr/sbin:/usr/bin:/sbin:/bin\n",
      "_ : /opt/conda/bin/jupyter\n",
      "PYDEVD_USE_FRAME_EVAL : NO\n",
      "JPY_PARENT_PID : 1\n",
      "CLICOLOR : 1\n",
      "PAGER : cat\n",
      "GIT_PAGER : cat\n",
      "MPLBACKEND : module://matplotlib_inline.backend_inline\n"
     ]
    }
   ],
   "source": [
    "import os\n",
    "for item in os.environ:\n",
    "\n",
    "    print(f'{item}{\" : \"}{os.environ[item]}')"
   ]
  },
  {
   "cell_type": "code",
   "execution_count": 10,
   "id": "b21290b1",
   "metadata": {},
   "outputs": [
    {
     "name": "stdout",
     "output_type": "stream",
     "text": [
      "['aiohttp==3.8.1', 'aiosignal==1.2.0', 'alabaster==0.7.12', 'anaconda-client==1.9.0', 'anaconda-navigator==2.1.4', 'anaconda-project==0.10.2', 'anyio==3.5.0', 'appdirs==1.4.4', 'argon2-cffi-bindings==21.2.0', 'argon2-cffi==21.3.0', 'arrow==1.2.2', 'astroid==2.6.6', 'astropy==5.0.4', 'asttokens==2.0.5', 'async-timeout==4.0.1', 'atomicwrites==1.4.0', 'attrs==21.4.0', 'automat==20.2.0', 'autopep8==1.6.0', 'babel==2.9.1', 'backcall==0.2.0', 'backports.functools-lru-cache==1.6.4', 'backports.tempfile==1.0', 'backports.weakref==1.0.post1', 'bcrypt==3.2.0', 'beautifulsoup4==4.11.1', 'binaryornot==0.4.4', 'bitarray==2.4.1', 'bkcharts==0.2', 'black==19.10b0', 'bleach==4.1.0', 'bokeh==2.4.2', 'boto3==1.21.32', 'botocore==1.24.32', 'bottleneck==1.3.4', 'brotlipy==0.7.0', 'cachetools==4.2.2', 'certifi==2021.10.8', 'cffi==1.15.0', 'chardet==4.0.0', 'charset-normalizer==2.0.4', 'click==8.0.4', 'cloudpickle==2.0.0', 'clyent==1.2.2', 'colorama==0.4.4', 'colorcet==2.0.6', 'conda-build==3.21.8', 'conda-content-trust==0+unknown', 'conda-pack==0.6.0', 'conda-package-handling==1.8.1', 'conda-repo-cli==1.0.4', 'conda-token==0.3.0', 'conda-verify==3.4.2', 'conda==4.13.0', 'constantly==15.1.0', 'cookiecutter==1.7.3', 'cryptography==3.4.8', 'cssselect==1.1.0', 'cycler==0.11.0', 'cython==0.29.28', 'cytoolz==0.11.0', 'daal4py==2021.5.0', 'dask==2022.2.1', 'datashader==0.13.0', 'datashape==0.5.4', 'debugpy==1.5.1', 'decorator==5.1.1', 'defusedxml==0.7.1', 'diff-match-patch==20200713', 'distributed==2022.2.1', 'docutils==0.17.1', 'entrypoints==0.4', 'et-xmlfile==1.1.0', 'executing==0.8.3', 'fastjsonschema==2.15.1', 'filelock==3.6.0', 'flake8==3.9.2', 'flask==1.1.2', 'fonttools==4.25.0', 'frozenlist==1.2.0', 'fsspec==2022.2.0', 'future==0.18.2', 'gensim==4.1.2', 'glob2==0.7', 'gmpy2==2.1.2', 'google-api-core==1.25.1', 'google-auth==1.33.0', 'google-cloud-core==1.7.1', 'google-cloud-storage==1.31.0', 'google-crc32c==1.1.2', 'google-resumable-media==1.3.1', 'googleapis-common-protos==1.53.0', 'greenlet==1.1.1', 'grpcio==1.42.0', 'h5py==3.6.0', 'heapdict==1.0.1', 'holoviews==1.14.8', 'hvplot==0.7.3', 'hyperlink==21.0.0', 'idna==3.3', 'imagecodecs==2021.8.26', 'imageio==2.9.0', 'imagesize==1.3.0', 'importlib-metadata==4.11.3', 'incremental==21.3.0', 'inflection==0.5.1', 'iniconfig==1.1.1', 'intake==0.6.5', 'intervaltree==3.1.0', 'ipykernel==6.9.1', 'ipython-genutils==0.2.0', 'ipython==8.2.0', 'ipywidgets==7.6.5', 'isort==5.9.3', 'itemadapter==0.3.0', 'itemloaders==1.0.4', 'itsdangerous==2.0.1', 'jdcal==1.4.1', 'jedi==0.18.1', 'jeepney==0.7.1', 'jinja2-time==0.2.0', 'jinja2==2.11.3', 'jmespath==0.10.0', 'joblib==1.1.0', 'json5==0.9.6', 'jsonschema==4.4.0', 'jupyter-client==6.1.12', 'jupyter-console==6.4.0', 'jupyter-core==4.9.2', 'jupyter-server==1.13.5', 'jupyter==1.0.0', 'jupyterlab-pygments==0.1.2', 'jupyterlab-server==2.10.3', 'jupyterlab-widgets==1.0.0', 'jupyterlab==3.3.2', 'keyring==23.4.0', 'kiwisolver==1.3.2', 'lazy-object-proxy==1.6.0', 'libarchive-c==2.9', 'llvmlite==0.38.0', 'locket==0.2.1', 'lxml==4.8.0', 'markdown==3.3.4', 'markupsafe==2.0.1', 'matplotlib-inline==0.1.2', 'matplotlib==3.5.1', 'mccabe==0.6.1', 'mistune==0.8.4', 'mkl-fft==1.3.1', 'mkl-random==1.2.2', 'mkl-service==2.4.0', 'mock==4.0.3', 'mpmath==1.2.1', 'msgpack==1.0.2', 'multidict==5.2.0', 'multipledispatch==0.6.0', 'munkres==1.1.4', 'mypy-extensions==0.4.3', 'navigator-updater==0.2.1', 'nbclassic==0.3.5', 'nbclient==0.5.13', 'nbconvert==6.4.4', 'nbformat==5.3.0', 'nest-asyncio==1.5.5', 'networkx==2.7.1', 'nltk==3.7', 'nose==1.3.7', 'notebook==6.4.8', 'numba==0.55.1', 'numexpr==2.8.1', 'numpy==1.21.5', 'numpydoc==1.2', 'olefile==0.46', 'openpyxl==3.0.9', 'packaging==21.3', 'pandas==1.4.2', 'pandocfilters==1.5.0', 'panel==0.13.0', 'param==1.12.0', 'parsel==1.6.0', 'parso==0.8.3', 'partd==1.2.0', 'pathspec==0.7.0', 'patsy==0.5.2', 'pep8==1.7.1', 'pexpect==4.8.0', 'pickleshare==0.7.5', 'pillow==9.0.1', 'pip==21.2.4', 'pkginfo==1.8.2', 'plotly==5.6.0', 'pluggy==1.0.0', 'poyo==0.5.0', 'prometheus-client==0.13.1', 'prompt-toolkit==3.0.20', 'protego==0.1.16', 'protobuf==3.19.1', 'psutil==5.8.0', 'ptyprocess==0.7.0', 'pure-eval==0.2.2', 'py==1.11.0', 'pyasn1-modules==0.2.8', 'pyasn1==0.4.8', 'pycodestyle==2.7.0', 'pycosat==0.6.3', 'pycparser==2.21', 'pyct==0.4.6', 'pycurl==7.44.1', 'pydispatcher==2.0.5', 'pydocstyle==6.1.1', 'pyerfa==2.0.0', 'pyflakes==2.3.1', 'pygments==2.11.2', 'pyhamcrest==2.0.2', 'pyjwt==2.1.0', 'pylint==2.9.6', 'pyls-spyder==0.4.0', 'pyodbc==4.0.32', 'pyopenssl==21.0.0', 'pyparsing==3.0.4', 'pyrsistent==0.18.0', 'pysocks==1.7.1', 'pytest==7.1.1', 'python-dateutil==2.8.2', 'python-lsp-black==1.0.0', 'python-lsp-jsonrpc==1.0.0', 'python-lsp-server==1.2.4', 'python-slugify==5.0.2', 'python-snappy==0.6.0', 'pytz==2021.3', 'pyviz-comms==2.0.2', 'pywavelets==1.3.0', 'pyxdg==0.27', 'pyyaml==6.0', 'pyzmq==22.3.0', 'qdarkstyle==3.0.2', 'qstylizer==0.1.10', 'qtawesome==1.0.3', 'qtconsole==5.3.0', 'qtpy==2.0.1', 'queuelib==1.5.0', 'regex==2022.3.15', 'requests-file==1.5.1', 'requests==2.27.1', 'rope==0.22.0', 'rsa==4.7.2', 'rtree==0.9.7', 'ruamel-yaml-conda==0.15.100', 's3transfer==0.5.0', 'scikit-image==0.19.2', 'scikit-learn-intelex==2021.20220215.212715', 'scikit-learn==1.0.2', 'scipy==1.7.3', 'scrapy==2.6.1', 'seaborn==0.11.2', 'secretstorage==3.3.1', 'send2trash==1.8.0', 'service-identity==18.1.0', 'setuptools==61.2.0', 'sip==4.19.13', 'six==1.16.0', 'smart-open==5.1.0', 'sniffio==1.2.0', 'snowballstemmer==2.2.0', 'sortedcollections==2.1.0', 'sortedcontainers==2.4.0', 'soupsieve==2.3.1', 'sphinx==4.4.0', 'sphinxcontrib-applehelp==1.0.2', 'sphinxcontrib-devhelp==1.0.2', 'sphinxcontrib-htmlhelp==2.0.0', 'sphinxcontrib-jsmath==1.0.1', 'sphinxcontrib-qthelp==1.0.3', 'sphinxcontrib-serializinghtml==1.1.5', 'spyder-kernels==2.1.3', 'spyder==5.1.5', 'sqlalchemy==1.4.32', 'stack-data==0.2.0', 'statsmodels==0.13.2', 'sympy==1.10.1', 'tables==3.6.1', 'tabulate==0.8.9', 'tbb==0.2', 'tblib==1.7.0', 'tenacity==8.0.1', 'terminado==0.13.1', 'testpath==0.5.0', 'text-unidecode==1.3', 'textdistance==4.2.1', 'threadpoolctl==2.2.0', 'three-merge==0.1.1', 'tifffile==2021.7.2', 'tinycss==0.4', 'tldextract==3.2.0', 'toml==0.10.2', 'tomli==1.2.2', 'toolz==0.11.2', 'tornado==6.1', 'tqdm==4.64.0', 'traitlets==5.1.1', 'twisted==22.2.0', 'typed-ast==1.4.3', 'typing-extensions==4.1.1', 'ujson==5.1.0', 'unidecode==1.2.0', 'urllib3==1.26.9', 'w3lib==1.21.0', 'watchdog==2.1.6', 'wcwidth==0.2.5', 'webencodings==0.5.1', 'websocket-client==0.58.0', 'werkzeug==2.0.3', 'wheel==0.37.1', 'widgetsnbextension==3.5.2', 'wrapt==1.12.1', 'wurlitzer==3.0.2', 'xarray==0.20.1', 'xlrd==2.0.1', 'xlsxwriter==3.0.3', 'yapf==0.31.0', 'yarl==1.6.3', 'zict==2.0.0', 'zipp==3.7.0', 'zope.interface==5.4.0']\n"
     ]
    }
   ],
   "source": [
    "import pkg_resources\n",
    "installed_packages = pkg_resources.working_set\n",
    "installed_packages_list = sorted([\"%s==%s\" % (i.key, i.version) for i in installed_packages]) \n",
    "print(installed_packages_list)"
   ]
  },
  {
   "cell_type": "code",
   "execution_count": null,
   "id": "3da2e155",
   "metadata": {},
   "outputs": [],
   "source": []
  }
 ],
 "metadata": {
  "kernelspec": {
   "display_name": "Python 3.9.12 ('base')",
   "language": "python",
   "name": "python3"
  },
  "language_info": {
   "codemirror_mode": {
    "name": "ipython",
    "version": 3
   },
   "file_extension": ".py",
   "mimetype": "text/x-python",
   "name": "python",
   "nbconvert_exporter": "python",
   "pygments_lexer": "ipython3",
   "version": "3.9.12"
  },
  "vscode": {
   "interpreter": {
    "hash": "d4d1e4263499bec80672ea0156c357c1ee493ec2b1c70f0acce89fc37c4a6abe"
   }
  }
 },
 "nbformat": 4,
 "nbformat_minor": 5
}
