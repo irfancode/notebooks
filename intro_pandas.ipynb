{
 "cells": [
  {
   "cell_type": "code",
   "execution_count": 3,
   "metadata": {},
   "outputs": [],
   "source": [
    "#4. Import pandas package as pd\n",
    "import pandas as pd"
   ]
  },
  {
   "cell_type": "code",
   "execution_count": 8,
   "metadata": {},
   "outputs": [
    {
     "data": {
      "text/plain": [
       "0               Mazda RX4\n",
       "1           Mazda RX4 Wag\n",
       "2              Datsun 710\n",
       "3          Hornet 4 Drive\n",
       "4       Hornet Sportabout\n",
       "5                 Valiant\n",
       "6              Duster 360\n",
       "7               Merc 240D\n",
       "8                Merc 230\n",
       "9                Merc 280\n",
       "10              Merc 280C\n",
       "11             Merc 450SE\n",
       "12             Merc 450SL\n",
       "13            Merc 450SLC\n",
       "14     Cadillac Fleetwood\n",
       "15    Lincoln Continental\n",
       "16      Chrysler Imperial\n",
       "17               Fiat 128\n",
       "18            Honda Civic\n",
       "19         Toyota Corolla\n",
       "20          Toyota Corona\n",
       "21       Dodge Challenger\n",
       "22            AMC Javelin\n",
       "23             Camaro Z28\n",
       "24       Pontiac Firebird\n",
       "25              Fiat X1-9\n",
       "26          Porsche 914-2\n",
       "27           Lotus Europa\n",
       "28         Ford Pantera L\n",
       "29           Ferrari Dino\n",
       "30          Maserati Bora\n",
       "31             Volvo 142E\n",
       "Name: model, dtype: object"
      ]
     },
     "execution_count": 8,
     "metadata": {},
     "output_type": "execute_result"
    }
   ],
   "source": [
    "#5. Use function pd.read_csv to upload mtcars.csv\n",
    "#1. Use_cols ( all the columns except car_names )\n",
    "#2. Index_col = car_names ( expected output as below)\n",
    "df = pd.read_csv(\"mtcars.csv\")\n",
    "df.columns\n",
    "index_col = df['model']"
   ]
  },
  {
   "cell_type": "code",
   "execution_count": 9,
   "metadata": {},
   "outputs": [],
   "source": [
    "#6. Import matplotlib package as plt\n",
    "import matplotlib as plt\n"
   ]
  },
  {
   "cell_type": "code",
   "execution_count": 10,
   "metadata": {},
   "outputs": [
    {
     "ename": "AttributeError",
     "evalue": "module 'matplotlib' has no attribute 'subplots'",
     "output_type": "error",
     "traceback": [
      "\u001b[0;31m---------------------------------------------------------------------------\u001b[0m",
      "\u001b[0;31mAttributeError\u001b[0m                            Traceback (most recent call last)",
      "\u001b[1;32m/home/irfan/notebooks/intro_pandas.ipynb Cell 4\u001b[0m in \u001b[0;36m<cell line: 4>\u001b[0;34m()\u001b[0m\n\u001b[1;32m      <a href='vscode-notebook-cell://ssh-remote%2B7b22686f73744e616d65223a224e696768744f776c227d/home/irfan/notebooks/intro_pandas.ipynb#ch0000003vscode-remote?line=0'>1</a>\u001b[0m \u001b[39m#7. Create a scatter plot with mpg and hp\u001b[39;00m\n\u001b[1;32m      <a href='vscode-notebook-cell://ssh-remote%2B7b22686f73744e616d65223a224e696768744f776c227d/home/irfan/notebooks/intro_pandas.ipynb#ch0000003vscode-remote?line=1'>2</a>\u001b[0m \u001b[39m#8. Provide xlabel and ylabel ( expected output as below)\u001b[39;00m\n\u001b[0;32m----> <a href='vscode-notebook-cell://ssh-remote%2B7b22686f73744e616d65223a224e696768744f776c227d/home/irfan/notebooks/intro_pandas.ipynb#ch0000003vscode-remote?line=3'>4</a>\u001b[0m fig, ax \u001b[39m=\u001b[39m plt\u001b[39m.\u001b[39;49msubplots()\n\u001b[1;32m      <a href='vscode-notebook-cell://ssh-remote%2B7b22686f73744e616d65223a224e696768744f776c227d/home/irfan/notebooks/intro_pandas.ipynb#ch0000003vscode-remote?line=4'>5</a>\u001b[0m ax\u001b[39m.\u001b[39mplot(df[\u001b[39m'\u001b[39m\u001b[39mmpg\u001b[39m\u001b[39m'\u001b[39m],df[\u001b[39m'\u001b[39m\u001b[39mhp\u001b[39m\u001b[39m'\u001b[39m])\n\u001b[1;32m      <a href='vscode-notebook-cell://ssh-remote%2B7b22686f73744e616d65223a224e696768744f776c227d/home/irfan/notebooks/intro_pandas.ipynb#ch0000003vscode-remote?line=6'>7</a>\u001b[0m ax\u001b[39m.\u001b[39mset(xlabel\u001b[39m=\u001b[39m\u001b[39m'\u001b[39m\u001b[39mMilage (mpg))\u001b[39m\u001b[39m'\u001b[39m, ylabel\u001b[39m=\u001b[39m\u001b[39m'\u001b[39m\u001b[39mHorse Power (hp))\u001b[39m\u001b[39m'\u001b[39m,\n\u001b[1;32m      <a href='vscode-notebook-cell://ssh-remote%2B7b22686f73744e616d65223a224e696768744f776c227d/home/irfan/notebooks/intro_pandas.ipynb#ch0000003vscode-remote?line=7'>8</a>\u001b[0m        title\u001b[39m=\u001b[39m\u001b[39m'\u001b[39m\u001b[39mCars inside, mpgg vs hp\u001b[39m\u001b[39m'\u001b[39m)\n",
      "File \u001b[0;32m~/anaconda3/lib/python3.9/site-packages/matplotlib/_api/__init__.py:222\u001b[0m, in \u001b[0;36mcaching_module_getattr.<locals>.__getattr__\u001b[0;34m(name)\u001b[0m\n\u001b[1;32m    220\u001b[0m \u001b[39mif\u001b[39;00m name \u001b[39min\u001b[39;00m props:\n\u001b[1;32m    221\u001b[0m     \u001b[39mreturn\u001b[39;00m props[name]\u001b[39m.\u001b[39m\u001b[39m__get__\u001b[39m(instance)\n\u001b[0;32m--> 222\u001b[0m \u001b[39mraise\u001b[39;00m \u001b[39mAttributeError\u001b[39;00m(\n\u001b[1;32m    223\u001b[0m     \u001b[39mf\u001b[39m\u001b[39m\"\u001b[39m\u001b[39mmodule \u001b[39m\u001b[39m{\u001b[39;00m\u001b[39mcls\u001b[39m\u001b[39m.\u001b[39m\u001b[39m__module__\u001b[39m\u001b[39m!r}\u001b[39;00m\u001b[39m has no attribute \u001b[39m\u001b[39m{\u001b[39;00mname\u001b[39m!r}\u001b[39;00m\u001b[39m\"\u001b[39m)\n",
      "\u001b[0;31mAttributeError\u001b[0m: module 'matplotlib' has no attribute 'subplots'"
     ]
    }
   ],
   "source": [
    "#7. Create a scatter plot with mpg and hp\n",
    "#8. Provide xlabel and ylabel ( expected output as below)\n",
    "\n",
    "fig, ax = plt.subplots()\n",
    "ax.plot(df['mpg'],df['hp'])\n",
    "\n",
    "ax.set(xlabel='Milage (mpg))', ylabel='Horse Power (hp))',\n",
    "       title='Cars inside, mpgg vs hp')\n",
    "ax.grid()\n",
    "\n",
    "fig.savefig(\"cars.png\")\n",
    "plt.show()\n"
   ]
  },
  {
   "cell_type": "code",
   "execution_count": null,
   "metadata": {},
   "outputs": [],
   "source": [
    "#9. Create crosstab for cyl(cylinder ) and columns as count ( expected output as below)\n"
   ]
  },
  {
   "cell_type": "code",
   "execution_count": null,
   "metadata": {},
   "outputs": [],
   "source": [
    "#10. Create crosstab for cyl(cylinder ) and am and create a bar plot ( expected output as below)\n"
   ]
  },
  {
   "cell_type": "code",
   "execution_count": null,
   "metadata": {},
   "outputs": [],
   "source": [
    "#make it stacked\n"
   ]
  },
  {
   "cell_type": "code",
   "execution_count": null,
   "metadata": {},
   "outputs": [],
   "source": [
    "#11. Create groupby , bar plot ( expected output as below)\n"
   ]
  },
  {
   "cell_type": "code",
   "execution_count": null,
   "metadata": {},
   "outputs": [],
   "source": [
    "#12. Create a pie chart for cyl count ( expected output as below)\n"
   ]
  },
  {
   "cell_type": "code",
   "execution_count": null,
   "metadata": {},
   "outputs": [],
   "source": [
    "#13. Create a Histogram for MPG ( expected output as below)\n"
   ]
  },
  {
   "cell_type": "code",
   "execution_count": null,
   "metadata": {},
   "outputs": [],
   "source": []
  }
 ],
 "metadata": {
  "kernelspec": {
   "display_name": "Python 3.9.12 ('base')",
   "language": "python",
   "name": "python3"
  },
  "language_info": {
   "codemirror_mode": {
    "name": "ipython",
    "version": 3
   },
   "file_extension": ".py",
   "mimetype": "text/x-python",
   "name": "python",
   "nbconvert_exporter": "python",
   "pygments_lexer": "ipython3",
   "version": "3.9.12"
  },
  "vscode": {
   "interpreter": {
    "hash": "a6f806f3b49959293100e13557de17a30621afccd2f375a7ee071c81c8862424"
   }
  }
 },
 "nbformat": 4,
 "nbformat_minor": 4
}
